{
 "cells": [
  {
   "cell_type": "markdown",
   "metadata": {
    "slideshow": {
     "slide_type": "slide"
    }
   },
   "source": [
    "# *Genetic Algorithms for the Travelling Salesman Problem*:\n",
    "#                   *A Review of Representation and Operators*"
   ]
  },
  {
   "cell_type": "markdown",
   "metadata": {
    "slideshow": {
     "slide_type": "slide"
    }
   },
   "source": [
    "## *Overview*"
   ]
  },
  {
   "cell_type": "markdown",
   "metadata": {
    "slideshow": {
     "slide_type": "subslide"
    }
   },
   "source": [
    "### Representação"
   ]
  },
  {
   "cell_type": "markdown",
   "metadata": {
    "slideshow": {
     "slide_type": "subslide"
    }
   },
   "source": [
    "O artigo visa apresentar diferentes tentativas de solucionar o problema do caixeiro viajante utilizando algoritmos genéticos. Para tal, as seguintes representações são abordadas:\n",
    "\n",
    "* *Binary Representation*\n",
    "* *Path Representation*\n",
    "* *Adjancency Representation*\n",
    "* *Ordinal Representation*\n",
    "* *Matrix Representation*"
   ]
  },
  {
   "cell_type": "markdown",
   "metadata": {
    "slideshow": {
     "slide_type": "subslide"
    }
   },
   "source": [
    "### Algoritmos de *Crossover*"
   ]
  },
  {
   "cell_type": "markdown",
   "metadata": {
    "slideshow": {
     "slide_type": "subslide"
    }
   },
   "source": [
    "A fim de mensurar resultados, os autores realizaram uma comparação empírica entre diferentes combinações de alguns algoritmos de *crossover* e mutação apenas para a representação *Path Representation*. Dentre os algoritmos de *crossover* selecionados para a comparação empírica estão:\n",
    "\n",
    "* *Alternating Position Crossover (AP)*\n",
    "* *Cycle Crossover (CX)*\n",
    "* *Edge Recombination Crossover (ER)*\n",
    "* *Order Crossover (OX1)*\n",
    "* *Order Based Crossover (OX2)*\n",
    "* *Partially Mapped Crossover (PMX)*\n",
    "* *Position Based Crossover (POS)*\n",
    "* *Voting Representation (VR)*"
   ]
  },
  {
   "cell_type": "markdown",
   "metadata": {
    "slideshow": {
     "slide_type": "subslide"
    }
   },
   "source": [
    "#### Alternating Position Crossover (AP)"
   ]
  },
  {
   "cell_type": "markdown",
   "metadata": {
    "slideshow": {
     "slide_type": "fragment"
    }
   },
   "source": [
    "![alt-text](https://i.imgur.com/RQnMRCi.png)"
   ]
  },
  {
   "cell_type": "markdown",
   "metadata": {
    "slideshow": {
     "slide_type": "subslide"
    }
   },
   "source": [
    "##### Cycle Crossover (CX)"
   ]
  },
  {
   "cell_type": "markdown",
   "metadata": {
    "slideshow": {
     "slide_type": "fragment"
    }
   },
   "source": [
    "![alt-text](https://i.imgur.com/AB54Zae.png)"
   ]
  },
  {
   "cell_type": "markdown",
   "metadata": {
    "slideshow": {
     "slide_type": "subslide"
    }
   },
   "source": [
    "##### Edge Recombination Crossover (ER)"
   ]
  },
  {
   "cell_type": "markdown",
   "metadata": {
    "slideshow": {
     "slide_type": "fragment"
    }
   },
   "source": [
    "Utiliza as cidades vizinhas pra determinar a sequência da *tour* resultante."
   ]
  },
  {
   "cell_type": "markdown",
   "metadata": {
    "slideshow": {
     "slide_type": "subslide"
    }
   },
   "source": [
    "##### Order Crossover (OX1)"
   ]
  },
  {
   "cell_type": "markdown",
   "metadata": {
    "slideshow": {
     "slide_type": "fragment"
    }
   },
   "source": [
    "![alt-text](https://i.imgur.com/lJQ6piR.png)"
   ]
  },
  {
   "cell_type": "markdown",
   "metadata": {
    "slideshow": {
     "slide_type": "subslide"
    }
   },
   "source": [
    "##### Order Based Crossover (OX2)"
   ]
  },
  {
   "cell_type": "markdown",
   "metadata": {
    "slideshow": {
     "slide_type": "fragment"
    }
   },
   "source": [
    "Seja os *parents* (1 2 3 4 5 6 7 8) e (2 4 6 8 7 5 3 1), obtemos as seguintes *offsprings*:\n",
    "\n",
    "* (1 2 3 x x x 7 8) -> (1 2 3 4 6 5 7 8)\n",
    "* (x 4 x 8 7 5 x 1) -> (2 4 3 8 7 5 6 1)"
   ]
  },
  {
   "cell_type": "markdown",
   "metadata": {
    "slideshow": {
     "slide_type": "subslide"
    }
   },
   "source": [
    "##### Partially Mapped Crossover (PMX)"
   ]
  },
  {
   "cell_type": "markdown",
   "metadata": {
    "slideshow": {
     "slide_type": "fragment"
    }
   },
   "source": [
    "![alt-text](https://i.imgur.com/K9YYdYT.png)"
   ]
  },
  {
   "cell_type": "markdown",
   "metadata": {
    "slideshow": {
     "slide_type": "subslide"
    }
   },
   "source": [
    "##### Position Based Crossover (POS)"
   ]
  },
  {
   "cell_type": "markdown",
   "metadata": {
    "slideshow": {
     "slide_type": "fragment"
    }
   },
   "source": [
    "![alt-text](https://i.imgur.com/UKUlFii.png)"
   ]
  },
  {
   "cell_type": "markdown",
   "metadata": {
    "slideshow": {
     "slide_type": "subslide"
    }
   },
   "source": [
    "##### Voting Representation (VR)"
   ]
  },
  {
   "cell_type": "markdown",
   "metadata": {
    "slideshow": {
     "slide_type": "fragment"
    }
   },
   "source": [
    "Utiliza um *threshold* pré estabelecido para definir quais elementos de um *parent* será copiado para a *offspring*"
   ]
  },
  {
   "cell_type": "markdown",
   "metadata": {
    "slideshow": {
     "slide_type": "subslide"
    }
   },
   "source": [
    "Fonte das imagens:\n",
    "\n",
    "<sub>(P. Larrañaga, C. M. H. Kuijpers, R. H. Murga, I. Inza, and S. Dizdarevic. 1999. Genetic Algorithms for the Travelling Salesman Problem: A Review of Representations and Operators. Artif. Intell. Rev. 13, 2 (April 1999), 129–170. DOI:https://doi.org/10.1023/A:1006529012972)</sub>"
   ]
  },
  {
   "cell_type": "markdown",
   "metadata": {
    "slideshow": {
     "slide_type": "subslide"
    }
   },
   "source": [
    "### Algoritmos de Mutação"
   ]
  },
  {
   "cell_type": "markdown",
   "metadata": {
    "slideshow": {
     "slide_type": "subslide"
    }
   },
   "source": [
    "Os algoritmos de mutação selecionados para a comparação são:\n",
    "\n",
    "* *Displacement Mutation (DM)*\n",
    "* *Exchange Mutation (EM)*\n",
    "* *Insertion Mutation (ISM)*\n",
    "* *Simple Inversion Mutation (SIM)*\n",
    "* *Inversion Mutation (IVM)*\n",
    "* *Scramble Mutation (SM)*\n"
   ]
  },
  {
   "cell_type": "markdown",
   "metadata": {
    "slideshow": {
     "slide_type": "subslide"
    }
   },
   "source": [
    "#### Displacement Mutation (DM)"
   ]
  },
  {
   "cell_type": "markdown",
   "metadata": {
    "slideshow": {
     "slide_type": "fragment"
    }
   },
   "source": [
    "![alt-text](https://i.imgur.com/641O053.jpg)"
   ]
  },
  {
   "cell_type": "markdown",
   "metadata": {
    "slideshow": {
     "slide_type": "subslide"
    }
   },
   "source": [
    "#### Exchange Mutation (EM)"
   ]
  },
  {
   "cell_type": "markdown",
   "metadata": {
    "slideshow": {
     "slide_type": "fragment"
    }
   },
   "source": [
    "![alt-text](https://i.imgur.com/fXjbG1P.jpg)"
   ]
  },
  {
   "cell_type": "markdown",
   "metadata": {
    "slideshow": {
     "slide_type": "subslide"
    }
   },
   "source": [
    "#### insertion Mutation (ISM)"
   ]
  },
  {
   "cell_type": "markdown",
   "metadata": {
    "slideshow": {
     "slide_type": "fragment"
    }
   },
   "source": [
    "![alt-text](https://i.imgur.com/0DttKZS.jpg)"
   ]
  },
  {
   "cell_type": "markdown",
   "metadata": {
    "slideshow": {
     "slide_type": "subslide"
    }
   },
   "source": [
    "#### Simple Inversion Mutation (SIM)"
   ]
  },
  {
   "cell_type": "markdown",
   "metadata": {
    "slideshow": {
     "slide_type": "fragment"
    }
   },
   "source": [
    "![alt-text](https://i.imgur.com/zJ5tJDD.jpg)"
   ]
  },
  {
   "cell_type": "markdown",
   "metadata": {
    "slideshow": {
     "slide_type": "subslide"
    }
   },
   "source": [
    "#### Inversion Mutation (IVM)"
   ]
  },
  {
   "cell_type": "markdown",
   "metadata": {
    "slideshow": {
     "slide_type": "fragment"
    }
   },
   "source": [
    "![alt-text](https://i.imgur.com/lUjim4G.jpg)"
   ]
  },
  {
   "cell_type": "markdown",
   "metadata": {
    "slideshow": {
     "slide_type": "subslide"
    }
   },
   "source": [
    "#### Scramble Mutation (SM)"
   ]
  },
  {
   "cell_type": "markdown",
   "metadata": {
    "slideshow": {
     "slide_type": "fragment"
    }
   },
   "source": [
    "![alt-text](https://i.imgur.com/iVCRzxV.jpg)"
   ]
  },
  {
   "cell_type": "markdown",
   "metadata": {
    "slideshow": {
     "slide_type": "subslide"
    }
   },
   "source": [
    "Fonte das imagens:\n",
    "\n",
    "<sub>(P. Larrañaga, C. M. H. Kuijpers, R. H. Murga, I. Inza, and S. Dizdarevic. 1999. Genetic Algorithms for the Travelling Salesman Problem: A Review of Representations and Operators. Artif. Intell. Rev. 13, 2 (April 1999), 129–170. DOI:https://doi.org/10.1023/A:1006529012972)</sub>"
   ]
  },
  {
   "cell_type": "markdown",
   "metadata": {
    "slideshow": {
     "slide_type": "subslide"
    }
   },
   "source": [
    "### Resultados do Estudo"
   ]
  },
  {
   "cell_type": "markdown",
   "metadata": {
    "slideshow": {
     "slide_type": "subslide"
    }
   },
   "source": [
    "A seguir, algumas tabelas com os resultados obtidos pelos autores:\n",
    "\n",
    "<sub>(Fonte: P. Larrañaga, C. M. H. Kuijpers, R. H. Murga, I. Inza, and S. Dizdarevic. 1999. Genetic Algorithms for the Travelling Salesman Problem: A Review of Representations and Operators. Artif. Intell. Rev. 13, 2 (April 1999), 129–170. DOI:https://doi.org/10.1023/A:1006529012972)</sub>"
   ]
  },
  {
   "cell_type": "markdown",
   "metadata": {
    "slideshow": {
     "slide_type": "subslide"
    }
   },
   "source": [
    "![alt text](https://i.imgur.com/Bi9vqxF.png \"Tabela de Resultados do Problema das Províncias Espanholas\")"
   ]
  },
  {
   "cell_type": "markdown",
   "metadata": {
    "slideshow": {
     "slide_type": "subslide"
    }
   },
   "source": [
    "![alt-text](https://i.imgur.com/RJN1xTL.png \"Tabela de Resultados do Problema Grtschels48\")"
   ]
  },
  {
   "cell_type": "markdown",
   "metadata": {
    "slideshow": {
     "slide_type": "subslide"
    }
   },
   "source": [
    "![alt text](https://i.imgur.com/p4o9p1N.png \"Tabela de Resultados do Problema Grtschels48\")"
   ]
  },
  {
   "cell_type": "markdown",
   "metadata": {
    "slideshow": {
     "slide_type": "slide"
    }
   },
   "source": [
    "## Experimento"
   ]
  },
  {
   "cell_type": "markdown",
   "metadata": {
    "slideshow": {
     "slide_type": "subslide"
    }
   },
   "source": [
    "Foi implementado um algoritmo genérico que permite a inclusão de algoritmos de *crossover* e mutação como parâmetros."
   ]
  },
  {
   "cell_type": "markdown",
   "metadata": {
    "slideshow": {
     "slide_type": "fragment"
    }
   },
   "source": [
    "Além disso, os principais algoritmos de *crossover* e mutação foram implementados para fins de análise comparativa e com possibilidade extender a implementação base a fim de implementar outros algoritmos no futuro."
   ]
  },
  {
   "cell_type": "markdown",
   "metadata": {
    "slideshow": {
     "slide_type": "subslide"
    }
   },
   "source": [
    "### Resultados Problema Grötschels24 "
   ]
  },
  {
   "cell_type": "code",
   "execution_count": 6,
   "metadata": {
    "slideshow": {
     "slide_type": "skip"
    }
   },
   "outputs": [],
   "source": [
    "import pandas as pd"
   ]
  },
  {
   "cell_type": "code",
   "execution_count": 8,
   "metadata": {
    "slideshow": {
     "slide_type": "fragment"
    }
   },
   "outputs": [
    {
     "data": {
      "text/html": [
       "<div>\n",
       "<style scoped>\n",
       "    .dataframe tbody tr th:only-of-type {\n",
       "        vertical-align: middle;\n",
       "    }\n",
       "\n",
       "    .dataframe tbody tr th {\n",
       "        vertical-align: top;\n",
       "    }\n",
       "\n",
       "    .dataframe thead th {\n",
       "        text-align: right;\n",
       "    }\n",
       "</style>\n",
       "<table border=\"1\" class=\"dataframe\">\n",
       "  <thead>\n",
       "    <tr style=\"text-align: right;\">\n",
       "      <th></th>\n",
       "      <th>mutation</th>\n",
       "      <th>APCrossOver</th>\n",
       "      <th>CXCrossOver</th>\n",
       "      <th>ERCrossOver</th>\n",
       "      <th>OX1CrossOver</th>\n",
       "      <th>OX2CrossOver</th>\n",
       "      <th>PMXCrossOver</th>\n",
       "      <th>POSCrossOver</th>\n",
       "      <th>VRCrossOver</th>\n",
       "    </tr>\n",
       "  </thead>\n",
       "  <tbody>\n",
       "    <tr>\n",
       "      <th>0</th>\n",
       "      <td>DM</td>\n",
       "      <td>1895</td>\n",
       "      <td>1637</td>\n",
       "      <td>2588</td>\n",
       "      <td>1352</td>\n",
       "      <td>1547</td>\n",
       "      <td>1482</td>\n",
       "      <td>1406</td>\n",
       "      <td>1531</td>\n",
       "    </tr>\n",
       "    <tr>\n",
       "      <th>1</th>\n",
       "      <td>EM</td>\n",
       "      <td>1902</td>\n",
       "      <td>1602</td>\n",
       "      <td>2803</td>\n",
       "      <td>1392</td>\n",
       "      <td>1397</td>\n",
       "      <td>1323</td>\n",
       "      <td>1496</td>\n",
       "      <td>1628</td>\n",
       "    </tr>\n",
       "    <tr>\n",
       "      <th>2</th>\n",
       "      <td>ISM</td>\n",
       "      <td>1623</td>\n",
       "      <td>1796</td>\n",
       "      <td>2657</td>\n",
       "      <td>1314</td>\n",
       "      <td>1548</td>\n",
       "      <td>1513</td>\n",
       "      <td>1398</td>\n",
       "      <td>1590</td>\n",
       "    </tr>\n",
       "    <tr>\n",
       "      <th>3</th>\n",
       "      <td>IVM</td>\n",
       "      <td>2331</td>\n",
       "      <td>2510</td>\n",
       "      <td>2585</td>\n",
       "      <td>1528</td>\n",
       "      <td>2130</td>\n",
       "      <td>2337</td>\n",
       "      <td>1929</td>\n",
       "      <td>2752</td>\n",
       "    </tr>\n",
       "    <tr>\n",
       "      <th>4</th>\n",
       "      <td>SIM</td>\n",
       "      <td>2287</td>\n",
       "      <td>1412</td>\n",
       "      <td>2648</td>\n",
       "      <td>1300</td>\n",
       "      <td>1467</td>\n",
       "      <td>1300</td>\n",
       "      <td>1342</td>\n",
       "      <td>1408</td>\n",
       "    </tr>\n",
       "    <tr>\n",
       "      <th>5</th>\n",
       "      <td>SM</td>\n",
       "      <td>1960</td>\n",
       "      <td>2023</td>\n",
       "      <td>2709</td>\n",
       "      <td>1702</td>\n",
       "      <td>1465</td>\n",
       "      <td>1878</td>\n",
       "      <td>1674</td>\n",
       "      <td>1735</td>\n",
       "    </tr>\n",
       "  </tbody>\n",
       "</table>\n",
       "</div>"
      ],
      "text/plain": [
       "  mutation  APCrossOver  CXCrossOver  ERCrossOver  OX1CrossOver  OX2CrossOver  \\\n",
       "0       DM         1895         1637         2588          1352          1547   \n",
       "1       EM         1902         1602         2803          1392          1397   \n",
       "2      ISM         1623         1796         2657          1314          1548   \n",
       "3      IVM         2331         2510         2585          1528          2130   \n",
       "4      SIM         2287         1412         2648          1300          1467   \n",
       "5       SM         1960         2023         2709          1702          1465   \n",
       "\n",
       "   PMXCrossOver  POSCrossOver  VRCrossOver  \n",
       "0          1482          1406         1531  \n",
       "1          1323          1496         1628  \n",
       "2          1513          1398         1590  \n",
       "3          2337          1929         2752  \n",
       "4          1300          1342         1408  \n",
       "5          1878          1674         1735  "
      ]
     },
     "execution_count": 8,
     "metadata": {},
     "output_type": "execute_result"
    }
   ],
   "source": [
    "df24 = pd.read_csv('problem24.csv')\n",
    "df24"
   ]
  },
  {
   "cell_type": "markdown",
   "metadata": {
    "slideshow": {
     "slide_type": "subslide"
    }
   },
   "source": [
    "### Resultados Problema Grötschels48"
   ]
  },
  {
   "cell_type": "code",
   "execution_count": 13,
   "metadata": {
    "slideshow": {
     "slide_type": "fragment"
    }
   },
   "outputs": [
    {
     "data": {
      "text/html": [
       "<div>\n",
       "<style scoped>\n",
       "    .dataframe tbody tr th:only-of-type {\n",
       "        vertical-align: middle;\n",
       "    }\n",
       "\n",
       "    .dataframe tbody tr th {\n",
       "        vertical-align: top;\n",
       "    }\n",
       "\n",
       "    .dataframe thead th {\n",
       "        text-align: right;\n",
       "    }\n",
       "</style>\n",
       "<table border=\"1\" class=\"dataframe\">\n",
       "  <thead>\n",
       "    <tr style=\"text-align: right;\">\n",
       "      <th></th>\n",
       "      <th>mutation</th>\n",
       "      <th>APCrossOver</th>\n",
       "      <th>CXCrossOver</th>\n",
       "      <th>ERCrossOver</th>\n",
       "      <th>OX1CrossOver</th>\n",
       "      <th>OX2CrossOver</th>\n",
       "      <th>PMXCrossOver</th>\n",
       "      <th>POSCrossOver</th>\n",
       "      <th>VRCrossOver</th>\n",
       "    </tr>\n",
       "  </thead>\n",
       "  <tbody>\n",
       "    <tr>\n",
       "      <th>0</th>\n",
       "      <td>DM</td>\n",
       "      <td>14416</td>\n",
       "      <td>10461</td>\n",
       "      <td>16266</td>\n",
       "      <td>6893</td>\n",
       "      <td>9762</td>\n",
       "      <td>7939</td>\n",
       "      <td>8603</td>\n",
       "      <td>10268</td>\n",
       "    </tr>\n",
       "    <tr>\n",
       "      <th>1</th>\n",
       "      <td>EM</td>\n",
       "      <td>10273</td>\n",
       "      <td>11083</td>\n",
       "      <td>16058</td>\n",
       "      <td>7869</td>\n",
       "      <td>7568</td>\n",
       "      <td>8919</td>\n",
       "      <td>8924</td>\n",
       "      <td>10908</td>\n",
       "    </tr>\n",
       "    <tr>\n",
       "      <th>2</th>\n",
       "      <td>ISM</td>\n",
       "      <td>9569</td>\n",
       "      <td>10578</td>\n",
       "      <td>15563</td>\n",
       "      <td>8644</td>\n",
       "      <td>9003</td>\n",
       "      <td>8579</td>\n",
       "      <td>9064</td>\n",
       "      <td>9717</td>\n",
       "    </tr>\n",
       "    <tr>\n",
       "      <th>3</th>\n",
       "      <td>IVM</td>\n",
       "      <td>14233</td>\n",
       "      <td>17641</td>\n",
       "      <td>16151</td>\n",
       "      <td>10025</td>\n",
       "      <td>12830</td>\n",
       "      <td>12698</td>\n",
       "      <td>13790</td>\n",
       "      <td>13699</td>\n",
       "    </tr>\n",
       "    <tr>\n",
       "      <th>4</th>\n",
       "      <td>SIM</td>\n",
       "      <td>13050</td>\n",
       "      <td>10477</td>\n",
       "      <td>16082</td>\n",
       "      <td>7095</td>\n",
       "      <td>12969</td>\n",
       "      <td>7659</td>\n",
       "      <td>8506</td>\n",
       "      <td>10697</td>\n",
       "    </tr>\n",
       "    <tr>\n",
       "      <th>5</th>\n",
       "      <td>SM</td>\n",
       "      <td>13523</td>\n",
       "      <td>14560</td>\n",
       "      <td>17844</td>\n",
       "      <td>9495</td>\n",
       "      <td>10011</td>\n",
       "      <td>10962</td>\n",
       "      <td>11116</td>\n",
       "      <td>12398</td>\n",
       "    </tr>\n",
       "  </tbody>\n",
       "</table>\n",
       "</div>"
      ],
      "text/plain": [
       "  mutation  APCrossOver  CXCrossOver  ERCrossOver  OX1CrossOver  OX2CrossOver  \\\n",
       "0       DM        14416        10461        16266          6893          9762   \n",
       "1       EM        10273        11083        16058          7869          7568   \n",
       "2      ISM         9569        10578        15563          8644          9003   \n",
       "3      IVM        14233        17641        16151         10025         12830   \n",
       "4      SIM        13050        10477        16082          7095         12969   \n",
       "5       SM        13523        14560        17844          9495         10011   \n",
       "\n",
       "   PMXCrossOver  POSCrossOver  VRCrossOver  \n",
       "0          7939          8603        10268  \n",
       "1          8919          8924        10908  \n",
       "2          8579          9064         9717  \n",
       "3         12698         13790        13699  \n",
       "4          7659          8506        10697  \n",
       "5         10962         11116        12398  "
      ]
     },
     "execution_count": 13,
     "metadata": {},
     "output_type": "execute_result"
    }
   ],
   "source": [
    "df48 = pd.read_csv('problem48.csv')\n",
    "df48"
   ]
  }
 ],
 "metadata": {
  "celltoolbar": "Slideshow",
  "kernelspec": {
   "display_name": "Python 3",
   "language": "python",
   "name": "python3"
  },
  "language_info": {
   "codemirror_mode": {
    "name": "ipython",
    "version": 3
   },
   "file_extension": ".py",
   "mimetype": "text/x-python",
   "name": "python",
   "nbconvert_exporter": "python",
   "pygments_lexer": "ipython3",
   "version": "3.7.6"
  }
 },
 "nbformat": 4,
 "nbformat_minor": 4
}
